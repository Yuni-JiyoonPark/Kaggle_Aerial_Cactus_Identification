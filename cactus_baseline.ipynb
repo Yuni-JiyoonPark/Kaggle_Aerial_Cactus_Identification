{
 "cells": [
  {
   "cell_type": "markdown",
   "metadata": {
    "papermill": {
     "duration": 0.02532,
     "end_time": "2021-07-31T09:04:08.920563",
     "exception": false,
     "start_time": "2021-07-31T09:04:08.895243",
     "status": "completed"
    },
    "tags": []
   },
   "source": [
    "# BASELINE"
   ]
  },
  {
   "cell_type": "code",
   "execution_count": 32,
   "metadata": {
    "execution": {
     "iopub.execute_input": "2025-02-04T00:29:43.740234Z",
     "iopub.status.busy": "2025-02-04T00:29:43.740020Z",
     "iopub.status.idle": "2025-02-04T00:29:43.757050Z",
     "shell.execute_reply": "2025-02-04T00:29:43.756054Z",
     "shell.execute_reply.started": "2025-02-04T00:29:43.740209Z"
    },
    "papermill": {
     "duration": 1.21289,
     "end_time": "2021-07-31T09:04:13.568408",
     "exception": false,
     "start_time": "2021-07-31T09:04:12.355518",
     "status": "completed"
    },
    "tags": [],
    "trusted": true
   },
   "outputs": [],
   "source": [
    "## 시드값 고정\n",
    "\n",
    "import torch # 파이토치 \n",
    "import random\n",
    "import numpy as np\n",
    "import os\n",
    "\n",
    "# 시드값 고정\n",
    "seed = 50\n",
    "os.environ['PYTHONHASHSEED'] = str(seed)\n",
    "random.seed(seed)                # 파이썬 난수 생성기 시드 고정\n",
    "np.random.seed(seed)             # 넘파이 난수 생성기 시드 고정\n",
    "torch.manual_seed(seed)          # 파이토치 난수 생성기 시드 고정 (CPU 사용 시)\n",
    "torch.cuda.manual_seed(seed)     # 파이토치 난수 생성기 시드 고정 (GPU 사용 시)\n",
    "torch.cuda.manual_seed_all(seed) # 파이토치 난수 생성기 시드 고정 (멀티GPU 사용 시)\n",
    "torch.backends.cudnn.deterministic = True # 확정적 연산 사용\n",
    "torch.backends.cudnn.benchmark = False    # 벤치마크 기능 해제\n",
    "torch.backends.cudnn.enabled = False      # cudnn 사용 해제"
   ]
  },
  {
   "cell_type": "markdown",
   "metadata": {
    "papermill": {
     "duration": 0.023564,
     "end_time": "2021-07-31T09:04:13.813528",
     "exception": false,
     "start_time": "2021-07-31T09:04:13.789964",
     "status": "completed"
    },
    "tags": []
   },
   "source": [
    "## 데이터 준비"
   ]
  },
  {
   "cell_type": "code",
   "execution_count": 38,
   "metadata": {
    "execution": {
     "iopub.execute_input": "2025-02-04T00:29:53.541416Z",
     "iopub.status.busy": "2025-02-04T00:29:53.541088Z",
     "iopub.status.idle": "2025-02-04T00:29:53.570865Z",
     "shell.execute_reply": "2025-02-04T00:29:53.569960Z",
     "shell.execute_reply.started": "2025-02-04T00:29:53.541385Z"
    },
    "papermill": {
     "duration": 0.187199,
     "end_time": "2021-07-31T09:04:09.188051",
     "exception": false,
     "start_time": "2021-07-31T09:04:09.000852",
     "status": "completed"
    },
    "tags": [],
    "trusted": true
   },
   "outputs": [],
   "source": [
    "import pandas as pd\n",
    "\n",
    "# 데이터 경로\n",
    "data_path = '/kaggle/input/aerial-cactus-identification/'\n",
    "\n",
    "labels = pd.read_csv(data_path + 'train.csv')\n",
    "submission = pd.read_csv(data_path + 'sample_submission.csv')"
   ]
  },
  {
   "cell_type": "code",
   "execution_count": 40,
   "metadata": {
    "_uuid": "c07eab67e573c7de05e11065b5bafc1bbff284fb",
    "execution": {
     "iopub.execute_input": "2025-02-04T00:30:02.764312Z",
     "iopub.status.busy": "2025-02-04T00:30:02.763972Z",
     "iopub.status.idle": "2025-02-04T00:30:02.782876Z",
     "shell.execute_reply": "2025-02-04T00:30:02.781596Z",
     "shell.execute_reply.started": "2025-02-04T00:30:02.764271Z"
    },
    "papermill": {
     "duration": 0.855794,
     "end_time": "2021-07-31T09:04:14.741824",
     "exception": false,
     "start_time": "2021-07-31T09:04:13.88603",
     "status": "completed"
    },
    "tags": [],
    "trusted": true
   },
   "outputs": [],
   "source": [
    "from sklearn.model_selection import train_test_split\n",
    "\n",
    "# 훈련 데이터, 검증 데이터 분리\n",
    "train, valid = train_test_split(labels, \n",
    "                                test_size=0.1,\n",
    "                                stratify=labels['has_cactus'],\n",
    "                                random_state=50)"
   ]
  },
  {
   "cell_type": "code",
   "execution_count": 41,
   "metadata": {
    "execution": {
     "iopub.execute_input": "2025-02-04T00:30:05.138741Z",
     "iopub.status.busy": "2025-02-04T00:30:05.138461Z",
     "iopub.status.idle": "2025-02-04T00:30:05.145833Z",
     "shell.execute_reply": "2025-02-04T00:30:05.144751Z",
     "shell.execute_reply.started": "2025-02-04T00:30:05.138714Z"
    },
    "papermill": {
     "duration": 0.034192,
     "end_time": "2021-07-31T09:04:14.80123",
     "exception": false,
     "start_time": "2021-07-31T09:04:14.767038",
     "status": "completed"
    },
    "tags": [],
    "trusted": true
   },
   "outputs": [
    {
     "name": "stdout",
     "output_type": "stream",
     "text": [
      "훈련 데이터 개수: 15750\n",
      "검증 데이터 개수: 1750\n"
     ]
    }
   ],
   "source": [
    "print('훈련 데이터 개수:', len(train))\n",
    "print('검증 데이터 개수:', len(valid))"
   ]
  },
  {
   "cell_type": "code",
   "execution_count": 42,
   "metadata": {
    "_uuid": "1b05af8d59d9d5b092e96f72dfebb19591416de9",
    "execution": {
     "iopub.execute_input": "2025-02-04T00:30:07.763888Z",
     "iopub.status.busy": "2025-02-04T00:30:07.763500Z",
     "iopub.status.idle": "2025-02-04T00:30:07.775353Z",
     "shell.execute_reply": "2025-02-04T00:30:07.774037Z",
     "shell.execute_reply.started": "2025-02-04T00:30:07.763849Z"
    },
    "papermill": {
     "duration": 0.162461,
     "end_time": "2021-07-31T09:04:15.036295",
     "exception": false,
     "start_time": "2021-07-31T09:04:14.873834",
     "status": "completed"
    },
    "tags": [],
    "trusted": true
   },
   "outputs": [],
   "source": [
    "## 데이터셋 클래스 정의\n",
    "\n",
    "import cv2 # OpenCV 라이브러리\n",
    "from torch.utils.data import Dataset # 데이터 생성을 위한 클래스\n",
    "\n",
    "class ImageDataset(Dataset):\n",
    "    # 초기화 메서드(생성자)\n",
    "    def __init__(self, df, img_dir='./', transform=None):\n",
    "        super().__init__() # 상속받은 Dataset의 생성자 호출\n",
    "        # 전달받은 인수들 저장\n",
    "        self.df = df\n",
    "        self.img_dir = img_dir\n",
    "        self.transform = transform\n",
    "    \n",
    "    # 데이터셋 크기 반환 메서드 \n",
    "    def __len__(self):\n",
    "        return len(self.df)\n",
    "    \n",
    "    # 인덱스(idx)에 해당하는 데이터 반환 메서드 \n",
    "    def __getitem__(self, idx):\n",
    "        img_id = self.df.iloc[idx, 0]    # 이미지 ID\n",
    "        img_path = self.img_dir + img_id # 이미지 파일 경로 \n",
    "        image = cv2.imread(img_path)     # 이미지 파일 읽기 \n",
    "        image = cv2.cvtColor(image, cv2.COLOR_BGR2RGB) # 이미지 색상 보정\n",
    "        label = self.df.iloc[idx, 1]     # 이미지 레이블(타깃값)\n",
    "\n",
    "        if self.transform is not None:\n",
    "            image = self.transform(image) # 변환기가 있다면 이미지 변환\n",
    "        return image, label"
   ]
  },
  {
   "cell_type": "code",
   "execution_count": 43,
   "metadata": {
    "execution": {
     "iopub.execute_input": "2025-02-04T00:30:10.738347Z",
     "iopub.status.busy": "2025-02-04T00:30:10.738026Z",
     "iopub.status.idle": "2025-02-04T00:30:10.743401Z",
     "shell.execute_reply": "2025-02-04T00:30:10.742406Z",
     "shell.execute_reply.started": "2025-02-04T00:30:10.738314Z"
    },
    "papermill": {
     "duration": 0.142632,
     "end_time": "2021-07-31T09:04:15.251903",
     "exception": false,
     "start_time": "2021-07-31T09:04:15.109271",
     "status": "completed"
    },
    "tags": [],
    "trusted": true
   },
   "outputs": [],
   "source": [
    "## 데이터 셋 생성\n",
    "\n",
    "from torchvision import transforms # 이미지 변환을 위한 모듈\n",
    "\n",
    "transform = transforms.ToTensor()"
   ]
  },
  {
   "cell_type": "code",
   "execution_count": 45,
   "metadata": {
    "execution": {
     "iopub.execute_input": "2025-02-04T00:30:21.313753Z",
     "iopub.status.busy": "2025-02-04T00:30:21.313076Z",
     "iopub.status.idle": "2025-02-04T00:30:21.318831Z",
     "shell.execute_reply": "2025-02-04T00:30:21.317686Z",
     "shell.execute_reply.started": "2025-02-04T00:30:21.313715Z"
    },
    "papermill": {
     "duration": 0.03091,
     "end_time": "2021-07-31T09:04:15.307945",
     "exception": false,
     "start_time": "2021-07-31T09:04:15.277035",
     "status": "completed"
    },
    "tags": [],
    "trusted": true
   },
   "outputs": [],
   "source": [
    "dataset_train = ImageDataset(df=train, img_dir='train/', transform=transform)\n",
    "dataset_valid = ImageDataset(df=valid, img_dir='train/', transform=transform)"
   ]
  },
  {
   "cell_type": "code",
   "execution_count": 46,
   "metadata": {
    "_uuid": "c247391c28497ad35c72f5218398ea71f2d0d5ff",
    "execution": {
     "iopub.execute_input": "2025-02-04T00:30:25.986933Z",
     "iopub.status.busy": "2025-02-04T00:30:25.986619Z",
     "iopub.status.idle": "2025-02-04T00:30:25.994759Z",
     "shell.execute_reply": "2025-02-04T00:30:25.993757Z",
     "shell.execute_reply.started": "2025-02-04T00:30:25.986902Z"
    },
    "papermill": {
     "duration": 0.031268,
     "end_time": "2021-07-31T09:04:15.421352",
     "exception": false,
     "start_time": "2021-07-31T09:04:15.390084",
     "status": "completed"
    },
    "tags": [],
    "trusted": true
   },
   "outputs": [],
   "source": [
    "## 데이터 로더 생성\n",
    "\n",
    "from torch.utils.data import DataLoader # 데이터 로더 클래스\n",
    "\n",
    "loader_train = DataLoader(dataset=dataset_train, batch_size=32, shuffle=True)\n",
    "loader_valid = DataLoader(dataset=dataset_valid, batch_size=32, shuffle=False)"
   ]
  },
  {
   "cell_type": "markdown",
   "metadata": {
    "papermill": {
     "duration": 0.024184,
     "end_time": "2021-07-31T09:04:15.469857",
     "exception": false,
     "start_time": "2021-07-31T09:04:15.445673",
     "status": "completed"
    },
    "tags": []
   },
   "source": [
    "## 모델 생성"
   ]
  },
  {
   "cell_type": "code",
   "execution_count": 47,
   "metadata": {
    "_uuid": "0a2d5600bc2eb915ec0bdf5b52ba11e25096f7d0",
    "execution": {
     "iopub.execute_input": "2025-02-04T00:30:30.210950Z",
     "iopub.status.busy": "2025-02-04T00:30:30.210631Z",
     "iopub.status.idle": "2025-02-04T00:30:30.220132Z",
     "shell.execute_reply": "2025-02-04T00:30:30.219038Z",
     "shell.execute_reply.started": "2025-02-04T00:30:30.210919Z"
    },
    "papermill": {
     "duration": 0.035021,
     "end_time": "2021-07-31T09:04:15.529256",
     "exception": false,
     "start_time": "2021-07-31T09:04:15.494235",
     "status": "completed"
    },
    "tags": [],
    "trusted": true
   },
   "outputs": [],
   "source": [
    "import torch.nn as nn # 신경망 모듈\n",
    "import torch.nn.functional as F # 신경망 모듈에서 자주 사용되는 함수\n",
    "\n",
    "class Model(nn.Module):\n",
    "    # 신경망 계층 정의 \n",
    "    def __init__(self):\n",
    "        super().__init__() # 상속받은 nn.Module의 __init__() 메서드 호출\n",
    "        \n",
    "        # 첫 번째 합성곱 계층 \n",
    "        self.conv1 = nn.Conv2d(in_channels=3, out_channels=32, \n",
    "                               kernel_size=3, padding=2) \n",
    "        # 두 번째 합성곱 계층 \n",
    "        self.conv2 = nn.Conv2d(in_channels=32, out_channels=64, \n",
    "                               kernel_size=3, padding=2) \n",
    "        # 최대 풀링 계층 \n",
    "        self.max_pool = nn.MaxPool2d(kernel_size=2) \n",
    "        # 평균 풀링 계층 \n",
    "        self.avg_pool = nn.AvgPool2d(kernel_size=2) \n",
    "        # 전결합 계층 \n",
    "        self.fc = nn.Linear(in_features=64 * 4 * 4, out_features=2)\n",
    "        \n",
    "    # 순전파 출력 정의 \n",
    "    def forward(self, x):\n",
    "        x = self.max_pool(F.relu(self.conv1(x)))\n",
    "        x = self.max_pool(F.relu(self.conv2(x)))\n",
    "        x = self.avg_pool(x)\n",
    "        x = x.view(-1, 64 * 4 * 4) # 평탄화\n",
    "        x = self.fc(x)\n",
    "        return x"
   ]
  },
  {
   "cell_type": "code",
   "execution_count": 49,
   "metadata": {
    "_cell_guid": "79c7e3d0-c299-4dcb-8224-4455121ee9b0",
    "_uuid": "d629ff2d2480ee46fbb7e2d37f6b5fab8052498a",
    "execution": {
     "iopub.execute_input": "2025-02-04T00:30:37.724534Z",
     "iopub.status.busy": "2025-02-04T00:30:37.724187Z",
     "iopub.status.idle": "2025-02-04T00:30:37.733941Z",
     "shell.execute_reply": "2025-02-04T00:30:37.732846Z",
     "shell.execute_reply.started": "2025-02-04T00:30:37.724499Z"
    },
    "papermill": {
     "duration": 4.045691,
     "end_time": "2021-07-31T09:04:19.653952",
     "exception": false,
     "start_time": "2021-07-31T09:04:15.608261",
     "status": "completed"
    },
    "tags": [],
    "trusted": true
   },
   "outputs": [
    {
     "data": {
      "text/plain": [
       "Model(\n",
       "  (conv1): Conv2d(3, 32, kernel_size=(3, 3), stride=(1, 1), padding=(2, 2))\n",
       "  (conv2): Conv2d(32, 64, kernel_size=(3, 3), stride=(1, 1), padding=(2, 2))\n",
       "  (max_pool): MaxPool2d(kernel_size=2, stride=2, padding=0, dilation=1, ceil_mode=False)\n",
       "  (avg_pool): AvgPool2d(kernel_size=2, stride=2, padding=0)\n",
       "  (fc): Linear(in_features=1024, out_features=2, bias=True)\n",
       ")"
      ]
     },
     "execution_count": 49,
     "metadata": {},
     "output_type": "execute_result"
    }
   ],
   "source": [
    "model = Model().to(device)\n",
    "\n",
    "model"
   ]
  },
  {
   "cell_type": "markdown",
   "metadata": {
    "papermill": {
     "duration": 0.025337,
     "end_time": "2021-07-31T09:04:19.704867",
     "exception": false,
     "start_time": "2021-07-31T09:04:19.67953",
     "status": "completed"
    },
    "tags": []
   },
   "source": [
    "## 모델 훈련"
   ]
  },
  {
   "cell_type": "code",
   "execution_count": 50,
   "metadata": {
    "execution": {
     "iopub.execute_input": "2025-02-04T00:30:40.706691Z",
     "iopub.status.busy": "2025-02-04T00:30:40.706379Z",
     "iopub.status.idle": "2025-02-04T00:30:40.711700Z",
     "shell.execute_reply": "2025-02-04T00:30:40.710569Z",
     "shell.execute_reply.started": "2025-02-04T00:30:40.706660Z"
    },
    "papermill": {
     "duration": 0.031975,
     "end_time": "2021-07-31T09:04:19.811981",
     "exception": false,
     "start_time": "2021-07-31T09:04:19.780006",
     "status": "completed"
    },
    "tags": [],
    "trusted": true
   },
   "outputs": [],
   "source": [
    "# 손실함수\n",
    "criterion = nn.CrossEntropyLoss()"
   ]
  },
  {
   "cell_type": "code",
   "execution_count": 51,
   "metadata": {
    "_uuid": "fceb2929d8750acb2de745cd9ff3d2d458820df8",
    "execution": {
     "iopub.execute_input": "2025-02-04T00:30:43.772553Z",
     "iopub.status.busy": "2025-02-04T00:30:43.772274Z",
     "iopub.status.idle": "2025-02-04T00:30:43.777186Z",
     "shell.execute_reply": "2025-02-04T00:30:43.776148Z",
     "shell.execute_reply.started": "2025-02-04T00:30:43.772525Z"
    },
    "papermill": {
     "duration": 0.032556,
     "end_time": "2021-07-31T09:04:19.870162",
     "exception": false,
     "start_time": "2021-07-31T09:04:19.837606",
     "status": "completed"
    },
    "tags": [],
    "trusted": true
   },
   "outputs": [],
   "source": [
    "# 옵티마이저\n",
    "optimizer = torch.optim.SGD(model.parameters(), lr=0.01)"
   ]
  },
  {
   "cell_type": "code",
   "execution_count": 52,
   "metadata": {
    "execution": {
     "iopub.execute_input": "2025-02-04T00:30:46.789699Z",
     "iopub.status.busy": "2025-02-04T00:30:46.789417Z",
     "iopub.status.idle": "2025-02-04T00:30:46.796006Z",
     "shell.execute_reply": "2025-02-04T00:30:46.795058Z",
     "shell.execute_reply.started": "2025-02-04T00:30:46.789673Z"
    },
    "papermill": {
     "duration": 0.033266,
     "end_time": "2021-07-31T09:04:19.977822",
     "exception": false,
     "start_time": "2021-07-31T09:04:19.944556",
     "status": "completed"
    },
    "tags": [],
    "trusted": true
   },
   "outputs": [
    {
     "data": {
      "text/plain": [
       "493"
      ]
     },
     "execution_count": 52,
     "metadata": {},
     "output_type": "execute_result"
    }
   ],
   "source": [
    "import math\n",
    "\n",
    "math.ceil(len(train) / 32)"
   ]
  },
  {
   "cell_type": "code",
   "execution_count": 53,
   "metadata": {
    "execution": {
     "iopub.execute_input": "2025-02-04T00:30:49.829719Z",
     "iopub.status.busy": "2025-02-04T00:30:49.829427Z",
     "iopub.status.idle": "2025-02-04T00:30:49.836192Z",
     "shell.execute_reply": "2025-02-04T00:30:49.835301Z",
     "shell.execute_reply.started": "2025-02-04T00:30:49.829689Z"
    },
    "papermill": {
     "duration": 0.032504,
     "end_time": "2021-07-31T09:04:20.035665",
     "exception": false,
     "start_time": "2021-07-31T09:04:20.003161",
     "status": "completed"
    },
    "tags": [],
    "trusted": true
   },
   "outputs": [
    {
     "data": {
      "text/plain": [
       "493"
      ]
     },
     "execution_count": 53,
     "metadata": {},
     "output_type": "execute_result"
    }
   ],
   "source": [
    "len(loader_train)"
   ]
  },
  {
   "cell_type": "code",
   "execution_count": 54,
   "metadata": {
    "_uuid": "2c37417ae6b62ab4551bc8a888916ca1e591d284",
    "execution": {
     "iopub.execute_input": "2025-02-04T00:30:52.076298Z",
     "iopub.status.busy": "2025-02-04T00:30:52.075957Z",
     "iopub.status.idle": "2025-02-04T00:34:25.044588Z",
     "shell.execute_reply": "2025-02-04T00:34:25.043607Z",
     "shell.execute_reply.started": "2025-02-04T00:30:52.076238Z"
    },
    "papermill": {
     "duration": 75.43957,
     "end_time": "2021-07-31T09:05:35.500612",
     "exception": false,
     "start_time": "2021-07-31T09:04:20.061042",
     "status": "completed"
    },
    "tags": [],
    "trusted": true
   },
   "outputs": [
    {
     "name": "stdout",
     "output_type": "stream",
     "text": [
      "에폭 [1/10] - 손실값: 0.5240\n",
      "에폭 [2/10] - 손실값: 0.3407\n",
      "에폭 [3/10] - 손실값: 0.2444\n",
      "에폭 [4/10] - 손실값: 0.1975\n",
      "에폭 [5/10] - 손실값: 0.1747\n",
      "에폭 [6/10] - 손실값: 0.1637\n",
      "에폭 [7/10] - 손실값: 0.1515\n",
      "에폭 [8/10] - 손실값: 0.1430\n",
      "에폭 [9/10] - 손실값: 0.1353\n",
      "에폭 [10/10] - 손실값: 0.1287\n"
     ]
    }
   ],
   "source": [
    "epochs = 10 # 총 에폭\n",
    "# 총 에폭만큼 반복\n",
    "for epoch in range(epochs):\n",
    "    epoch_loss = 0 # 에폭별 손실값 초기화\n",
    "    \n",
    "    # '반복 횟수'만큼 반복 \n",
    "    for images, labels in loader_train:\n",
    "        # 이미지, 레이블 데이터 미니배치를 장비에 할당 \n",
    "        images = images.to(device)\n",
    "        labels = labels.to(device)\n",
    "        \n",
    "        # 옵티마이저 내 기울기 초기화\n",
    "        optimizer.zero_grad()\n",
    "        # 순전파 : 이미지 데이터를 신경망 모델의 입력값으로 사용해 출력값 계산\n",
    "        outputs = model(images)\n",
    "        # 손실 함수를 활용해 outputs와 labels의 손실값 계산\n",
    "        loss = criterion(outputs, labels)\n",
    "        # 현재 배치에서의 손실 추가\n",
    "        epoch_loss += loss.item() \n",
    "        # 역전파 수행\n",
    "        loss.backward()\n",
    "        # 가중치 갱신\n",
    "        optimizer.step()\n",
    "        \n",
    "    # 훈련 데이터 손실값 출력\n",
    "    print(f'에폭 [{epoch+1}/{epochs}] - 손실값: {epoch_loss/len(loader_train):.4f}')"
   ]
  },
  {
   "cell_type": "markdown",
   "metadata": {
    "papermill": {
     "duration": 0.028295,
     "end_time": "2021-07-31T09:05:35.557825",
     "exception": false,
     "start_time": "2021-07-31T09:05:35.52953",
     "status": "completed"
    },
    "tags": []
   },
   "source": [
    "## 성능 검증"
   ]
  },
  {
   "cell_type": "code",
   "execution_count": 55,
   "metadata": {
    "execution": {
     "iopub.execute_input": "2025-02-04T00:41:43.481026Z",
     "iopub.status.busy": "2025-02-04T00:41:43.480708Z",
     "iopub.status.idle": "2025-02-04T00:41:43.487459Z",
     "shell.execute_reply": "2025-02-04T00:41:43.486471Z",
     "shell.execute_reply.started": "2025-02-04T00:41:43.480995Z"
    },
    "trusted": true
   },
   "outputs": [],
   "source": [
    "from sklearn.metrics import roc_auc_score # ROC AUC 점수 계산 함수 임포트\n",
    "\n",
    "# 실제값과 예측 확률값을 담을 리스트 초기화\n",
    "true_list = []\n",
    "preds_list = []"
   ]
  },
  {
   "cell_type": "code",
   "execution_count": 56,
   "metadata": {
    "execution": {
     "iopub.execute_input": "2025-02-04T00:41:46.097486Z",
     "iopub.status.busy": "2025-02-04T00:41:46.097194Z",
     "iopub.status.idle": "2025-02-04T00:41:47.334099Z",
     "shell.execute_reply": "2025-02-04T00:41:47.333003Z",
     "shell.execute_reply.started": "2025-02-04T00:41:46.097459Z"
    },
    "papermill": {
     "duration": 0.578283,
     "end_time": "2021-07-31T09:05:36.164207",
     "exception": false,
     "start_time": "2021-07-31T09:05:35.585924",
     "status": "completed"
    },
    "tags": [],
    "trusted": true
   },
   "outputs": [
    {
     "name": "stdout",
     "output_type": "stream",
     "text": [
      "검증 데이터 ROC AUC : 0.9900\n"
     ]
    }
   ],
   "source": [
    "model.eval() # 모델을 평가 상태로 설정 \n",
    "\n",
    "with torch.no_grad(): # 기울기 계산 비활성화\n",
    "    for images, labels in loader_valid:\n",
    "        # 이미지, 레이블 데이터 미니배치를 장비에 할당 \n",
    "        images = images.to(device)\n",
    "        labels = labels.to(device) \n",
    "        \n",
    "        # 순전파 : 이미지 데이터를 신경망 모델의 입력값으로 사용해 출력값 계산\n",
    "        outputs = model(images)\n",
    "        preds = torch.softmax(outputs.cpu(), dim=1)[:, 1] # 예측 확률  \n",
    "        true = labels.cpu() # 실제값 \n",
    "        # 예측 확률과 실제값을 리스트에 추가\n",
    "        preds_list.extend(preds)\n",
    "        true_list.extend(true)\n",
    "        \n",
    "# 검증 데이터 ROC AUC 점수 계산\n",
    "print(f'검증 데이터 ROC AUC : {roc_auc_score(true_list, preds_list):.4f}')"
   ]
  },
  {
   "cell_type": "code",
   "execution_count": 57,
   "metadata": {
    "_uuid": "870413a60281e0c4115fbc7cf192508e15a9e269",
    "execution": {
     "iopub.execute_input": "2025-02-04T00:41:56.820675Z",
     "iopub.status.busy": "2025-02-04T00:41:56.820382Z",
     "iopub.status.idle": "2025-02-04T00:41:56.826481Z",
     "shell.execute_reply": "2025-02-04T00:41:56.825422Z",
     "shell.execute_reply.started": "2025-02-04T00:41:56.820648Z"
    },
    "papermill": {
     "duration": 0.038481,
     "end_time": "2021-07-31T09:05:36.231723",
     "exception": false,
     "start_time": "2021-07-31T09:05:36.193242",
     "status": "completed"
    },
    "tags": [],
    "trusted": true
   },
   "outputs": [],
   "source": [
    "dataset_test = ImageDataset(df=submission, img_dir='test/', transform=transform)\n",
    "loader_test = DataLoader(dataset=dataset_test, batch_size=32, shuffle=False)"
   ]
  },
  {
   "cell_type": "code",
   "execution_count": 58,
   "metadata": {
    "execution": {
     "iopub.execute_input": "2025-02-04T00:41:59.991335Z",
     "iopub.status.busy": "2025-02-04T00:41:59.991014Z",
     "iopub.status.idle": "2025-02-04T00:42:02.655489Z",
     "shell.execute_reply": "2025-02-04T00:42:02.654685Z",
     "shell.execute_reply.started": "2025-02-04T00:41:59.991298Z"
    },
    "papermill": {
     "duration": 1.147453,
     "end_time": "2021-07-31T09:05:37.407538",
     "exception": false,
     "start_time": "2021-07-31T09:05:36.260085",
     "status": "completed"
    },
    "tags": [],
    "trusted": true
   },
   "outputs": [],
   "source": [
    "## 테스트 데이터 예측\n",
    "\n",
    "model.eval() # 모델을 평가 상태로 설정\n",
    "\n",
    "preds = [] # 타깃 예측값 저장용 리스트 초기화\n",
    "\n",
    "with torch.no_grad(): # 기울기 계산 비활성화\n",
    "    for images, _ in loader_test:\n",
    "        # 이미지 데이터 미니배치를 장비에 할당\n",
    "        images = images.to(device)\n",
    "        \n",
    "        # 순전파 : 이미지 데이터를 신경망 모델의 입력값으로 사용해 출력값 계산\n",
    "        outputs = model(images)\n",
    "        # 타깃값이 1일 확률(예측값)\n",
    "        preds_part = torch.softmax(outputs.cpu(), dim=1)[:, 1].tolist()\n",
    "        # preds에 preds_part 이어붙이기\n",
    "        preds.extend(preds_part)"
   ]
  },
  {
   "cell_type": "code",
   "execution_count": 59,
   "metadata": {
    "execution": {
     "iopub.execute_input": "2025-02-04T00:42:08.790708Z",
     "iopub.status.busy": "2025-02-04T00:42:08.790381Z",
     "iopub.status.idle": "2025-02-04T00:42:08.815028Z",
     "shell.execute_reply": "2025-02-04T00:42:08.813450Z",
     "shell.execute_reply.started": "2025-02-04T00:42:08.790677Z"
    },
    "papermill": {
     "duration": 0.057542,
     "end_time": "2021-07-31T09:05:37.550214",
     "exception": false,
     "start_time": "2021-07-31T09:05:37.492672",
     "status": "completed"
    },
    "tags": [],
    "trusted": true
   },
   "outputs": [],
   "source": [
    "## 결과 저장\n",
    "\n",
    "submission['has_cactus'] = preds\n",
    "submission.to_csv('submission.csv', index=False)"
   ]
  },
  {
   "cell_type": "code",
   "execution_count": 60,
   "metadata": {
    "execution": {
     "iopub.execute_input": "2025-02-04T00:42:19.892150Z",
     "iopub.status.busy": "2025-02-04T00:42:19.891833Z",
     "iopub.status.idle": "2025-02-04T00:42:20.697512Z",
     "shell.execute_reply": "2025-02-04T00:42:20.696155Z",
     "shell.execute_reply.started": "2025-02-04T00:42:19.892119Z"
    },
    "papermill": {
     "duration": 0.687638,
     "end_time": "2021-07-31T09:05:38.266879",
     "exception": false,
     "start_time": "2021-07-31T09:05:37.579241",
     "status": "completed"
    },
    "tags": [],
    "trusted": true
   },
   "outputs": [],
   "source": [
    "## rmtree() = 경로에 있는 모든 파일과 디렉터리를 삭제\n",
    "\n",
    "import shutil\n",
    "\n",
    "shutil.rmtree('./train')\n",
    "shutil.rmtree('./test')"
   ]
  }
 ],
 "metadata": {
  "kaggle": {
   "accelerator": "gpu",
   "dataSources": [
    {
     "databundleVersionId": 331452,
     "sourceId": 13435,
     "sourceType": "competition"
    }
   ],
   "dockerImageVersionId": 30123,
   "isGpuEnabled": true,
   "isInternetEnabled": false,
   "language": "python",
   "sourceType": "notebook"
  },
  "kernelspec": {
   "display_name": "Python 3",
   "language": "python",
   "name": "python3"
  },
  "language_info": {
   "codemirror_mode": {
    "name": "ipython",
    "version": 3
   },
   "file_extension": ".py",
   "mimetype": "text/x-python",
   "name": "python",
   "nbconvert_exporter": "python",
   "pygments_lexer": "ipython3",
   "version": "3.7.10"
  }
 },
 "nbformat": 4,
 "nbformat_minor": 4
}
